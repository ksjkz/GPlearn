{
 "cells": [
  {
   "cell_type": "code",
   "execution_count": 1,
   "metadata": {},
   "outputs": [
    {
     "data": {
      "text/plain": [
       "<module 'gp.mapping_columns_name' from 'c:\\\\Users\\\\QinTian\\\\Desktop\\\\F\\\\gp\\\\mapping_columns_name.py'>"
      ]
     },
     "execution_count": 1,
     "metadata": {},
     "output_type": "execute_result"
    }
   ],
   "source": [
    "import random\n",
    "import importlib\n",
    "import gp.generate\n",
    "import gp.selection\n",
    "import gp.crossover\n",
    "import gp.mutation\n",
    "import gp.formulate_coding_AST\n",
    "import gp.binance_trade_client\n",
    "import gp.mapping_columns_name\n",
    "import gp.fitness_evaluate\n",
    "\n",
    "importlib.reload(gp.fitness_evaluate)\n",
    "importlib.reload(gp.generate)\n",
    "importlib.reload(gp.selection)\n",
    "importlib.reload(gp.crossover)\n",
    "importlib.reload(gp.mutation)\n",
    "importlib.reload(gp.formulate_coding_AST)\n",
    "importlib.reload(gp.binance_trade_client)\n",
    "importlib.reload(gp.mapping_columns_name)"
   ]
  },
  {
   "cell_type": "code",
   "execution_count": 2,
   "metadata": {},
   "outputs": [
    {
     "data": {
      "text/html": [
       "<div>\n",
       "<style scoped>\n",
       "    .dataframe tbody tr th:only-of-type {\n",
       "        vertical-align: middle;\n",
       "    }\n",
       "\n",
       "    .dataframe tbody tr th {\n",
       "        vertical-align: top;\n",
       "    }\n",
       "\n",
       "    .dataframe thead th {\n",
       "        text-align: right;\n",
       "    }\n",
       "</style>\n",
       "<table border=\"1\" class=\"dataframe\">\n",
       "  <thead>\n",
       "    <tr style=\"text-align: right;\">\n",
       "      <th></th>\n",
       "      <th>open_time</th>\n",
       "      <th>open</th>\n",
       "      <th>high</th>\n",
       "      <th>low</th>\n",
       "      <th>close</th>\n",
       "      <th>volume</th>\n",
       "      <th>close_time</th>\n",
       "      <th>quote_asset_volume</th>\n",
       "      <th>number_of_trades</th>\n",
       "      <th>taker_buy_base_asset_volume</th>\n",
       "      <th>taker_buy_quote_asset_volume</th>\n",
       "      <th>future_return</th>\n",
       "    </tr>\n",
       "  </thead>\n",
       "  <tbody>\n",
       "    <tr>\n",
       "      <th>23993</th>\n",
       "      <td>2024-11-14 12:00:00</td>\n",
       "      <td>91491.85</td>\n",
       "      <td>91599.99</td>\n",
       "      <td>90945.00</td>\n",
       "      <td>91243.17</td>\n",
       "      <td>1587.33383</td>\n",
       "      <td>2024-11-14 12:59:59.999</td>\n",
       "      <td>1.448928e+08</td>\n",
       "      <td>451170</td>\n",
       "      <td>734.14002</td>\n",
       "      <td>6.703008e+07</td>\n",
       "      <td>-0.005357</td>\n",
       "    </tr>\n",
       "    <tr>\n",
       "      <th>23994</th>\n",
       "      <td>2024-11-14 13:00:00</td>\n",
       "      <td>91243.17</td>\n",
       "      <td>91380.00</td>\n",
       "      <td>90559.65</td>\n",
       "      <td>90754.42</td>\n",
       "      <td>2037.91332</td>\n",
       "      <td>2024-11-14 13:59:59.999</td>\n",
       "      <td>1.853306e+08</td>\n",
       "      <td>446427</td>\n",
       "      <td>800.67679</td>\n",
       "      <td>7.281210e+07</td>\n",
       "      <td>-0.022416</td>\n",
       "    </tr>\n",
       "    <tr>\n",
       "      <th>23995</th>\n",
       "      <td>2024-11-14 14:00:00</td>\n",
       "      <td>90754.42</td>\n",
       "      <td>91790.00</td>\n",
       "      <td>88639.76</td>\n",
       "      <td>88720.03</td>\n",
       "      <td>5271.45761</td>\n",
       "      <td>2024-11-14 14:59:59.999</td>\n",
       "      <td>4.751695e+08</td>\n",
       "      <td>897010</td>\n",
       "      <td>2406.96396</td>\n",
       "      <td>2.172742e+08</td>\n",
       "      <td>-0.008702</td>\n",
       "    </tr>\n",
       "    <tr>\n",
       "      <th>23996</th>\n",
       "      <td>2024-11-14 15:00:00</td>\n",
       "      <td>88720.03</td>\n",
       "      <td>89638.50</td>\n",
       "      <td>87829.57</td>\n",
       "      <td>87947.99</td>\n",
       "      <td>6221.33894</td>\n",
       "      <td>2024-11-14 15:59:59.999</td>\n",
       "      <td>5.517983e+08</td>\n",
       "      <td>1076245</td>\n",
       "      <td>2806.89051</td>\n",
       "      <td>2.490308e+08</td>\n",
       "      <td>0.014217</td>\n",
       "    </tr>\n",
       "    <tr>\n",
       "      <th>23997</th>\n",
       "      <td>2024-11-14 16:00:00</td>\n",
       "      <td>87947.99</td>\n",
       "      <td>89239.79</td>\n",
       "      <td>87526.74</td>\n",
       "      <td>89198.31</td>\n",
       "      <td>3863.10102</td>\n",
       "      <td>2024-11-14 16:59:59.999</td>\n",
       "      <td>3.411234e+08</td>\n",
       "      <td>602093</td>\n",
       "      <td>2118.87550</td>\n",
       "      <td>1.871513e+08</td>\n",
       "      <td>0.000455</td>\n",
       "    </tr>\n",
       "  </tbody>\n",
       "</table>\n",
       "</div>"
      ],
      "text/plain": [
       "                open_time      open      high       low     close      volume  \\\n",
       "23993 2024-11-14 12:00:00  91491.85  91599.99  90945.00  91243.17  1587.33383   \n",
       "23994 2024-11-14 13:00:00  91243.17  91380.00  90559.65  90754.42  2037.91332   \n",
       "23995 2024-11-14 14:00:00  90754.42  91790.00  88639.76  88720.03  5271.45761   \n",
       "23996 2024-11-14 15:00:00  88720.03  89638.50  87829.57  87947.99  6221.33894   \n",
       "23997 2024-11-14 16:00:00  87947.99  89239.79  87526.74  89198.31  3863.10102   \n",
       "\n",
       "                   close_time  quote_asset_volume  number_of_trades  \\\n",
       "23993 2024-11-14 12:59:59.999        1.448928e+08            451170   \n",
       "23994 2024-11-14 13:59:59.999        1.853306e+08            446427   \n",
       "23995 2024-11-14 14:59:59.999        4.751695e+08            897010   \n",
       "23996 2024-11-14 15:59:59.999        5.517983e+08           1076245   \n",
       "23997 2024-11-14 16:59:59.999        3.411234e+08            602093   \n",
       "\n",
       "       taker_buy_base_asset_volume  taker_buy_quote_asset_volume  \\\n",
       "23993                    734.14002                  6.703008e+07   \n",
       "23994                    800.67679                  7.281210e+07   \n",
       "23995                   2406.96396                  2.172742e+08   \n",
       "23996                   2806.89051                  2.490308e+08   \n",
       "23997                   2118.87550                  1.871513e+08   \n",
       "\n",
       "       future_return  \n",
       "23993      -0.005357  \n",
       "23994      -0.022416  \n",
       "23995      -0.008702  \n",
       "23996       0.014217  \n",
       "23997       0.000455  "
      ]
     },
     "execution_count": 2,
     "metadata": {},
     "output_type": "execute_result"
    }
   ],
   "source": [
    "#从binance接口下载数据\n",
    "df=gp.binance_trade_client.data_loader(symbol='BTCUSDT',interval='1h',back_days=1000)\n",
    "df['future_return']=df['close'].pct_change().shift(-1)\n",
    "df=df.dropna()\n",
    "df.tail(5)"
   ]
  },
  {
   "cell_type": "code",
   "execution_count": 10,
   "metadata": {},
   "outputs": [
    {
     "name": "stdout",
     "output_type": "stream",
     "text": [
      "['add(low, high)', 'sub(ts_pct_change(low,1), low)', 'mul(ts_pct_change(taker_buy_base_asset_volume,1), ts_pct_change(close,1))']\n"
     ]
    }
   ],
   "source": [
    "polulation_num=10000\n",
    "echo=20\n",
    "#产生初始种群,数量为10000\n",
    "population = gp.generate.generate(low=1,high=2,num=polulation_num)\n",
    "\n",
    "#映射成可以被计算的形式\n",
    "population=gp.mapping_columns_name.trans_(population )\n",
    "print(population[:3])\n",
    "#解析成算法树\n",
    "population=[gp.formulate_coding_AST.ExpressionTree(i) for i in population]"
   ]
  },
  {
   "cell_type": "code",
   "execution_count": 11,
   "metadata": {},
   "outputs": [
    {
     "name": "stdout",
     "output_type": "stream",
     "text": [
      "第1次演化\n"
     ]
    },
    {
     "name": "stderr",
     "output_type": "stream",
     "text": [
      "计算适应值: 100%|██████████| 10000/10000 [03:01<00:00, 55.11it/s]\n"
     ]
    },
    {
     "name": "stdout",
     "output_type": "stream",
     "text": [
      "最大适应度是: 0.0004347650785474789\n",
      "平均适应度是: 0.00017032509976627093\n",
      "种群平均深度是: 2.503\n",
      "第2次演化\n"
     ]
    },
    {
     "name": "stderr",
     "output_type": "stream",
     "text": [
      "计算适应值: 100%|██████████| 10000/10000 [02:48<00:00, 59.49it/s]\n"
     ]
    },
    {
     "name": "stdout",
     "output_type": "stream",
     "text": [
      "最大适应度是: 0.0006533965020346248\n",
      "平均适应度是: 0.00018790537684556299\n",
      "种群平均深度是: 2.6539\n",
      "第3次演化\n"
     ]
    },
    {
     "name": "stderr",
     "output_type": "stream",
     "text": [
      "计算适应值: 100%|██████████| 10000/10000 [02:37<00:00, 63.35it/s]\n"
     ]
    },
    {
     "name": "stdout",
     "output_type": "stream",
     "text": [
      "最大适应度是: 0.0038746122251327522\n",
      "平均适应度是: 0.00017080057404861068\n",
      "种群平均深度是: 2.8922\n",
      "第4次演化\n"
     ]
    },
    {
     "name": "stderr",
     "output_type": "stream",
     "text": [
      "计算适应值: 100%|██████████| 10000/10000 [03:03<00:00, 54.64it/s]\n"
     ]
    },
    {
     "name": "stdout",
     "output_type": "stream",
     "text": [
      "最大适应度是: 0.001107182309569861\n",
      "平均适应度是: 0.0001624967635560883\n",
      "种群平均深度是: 3.0688\n",
      "第5次演化\n"
     ]
    },
    {
     "name": "stderr",
     "output_type": "stream",
     "text": [
      "计算适应值: 100%|██████████| 10000/10000 [03:22<00:00, 49.50it/s]\n"
     ]
    },
    {
     "name": "stdout",
     "output_type": "stream",
     "text": [
      "最大适应度是: 0.001598538767940015\n",
      "平均适应度是: 0.00015857169432212796\n",
      "种群平均深度是: 3.3256\n",
      "第6次演化\n"
     ]
    },
    {
     "name": "stderr",
     "output_type": "stream",
     "text": [
      "计算适应值: 100%|██████████| 10000/10000 [04:36<00:00, 36.11it/s]\n"
     ]
    },
    {
     "name": "stdout",
     "output_type": "stream",
     "text": [
      "最大适应度是: 0.0023156116924329916\n",
      "平均适应度是: 0.0001508533550089507\n",
      "种群平均深度是: 4.0876\n",
      "第7次演化\n"
     ]
    },
    {
     "name": "stderr",
     "output_type": "stream",
     "text": [
      "计算适应值: 100%|██████████| 10000/10000 [05:11<00:00, 32.07it/s]\n"
     ]
    },
    {
     "name": "stdout",
     "output_type": "stream",
     "text": [
      "最大适应度是: 0.017753054247832502\n",
      "平均适应度是: 0.00017850129518081\n",
      "种群平均深度是: 5.1598\n",
      "第8次演化\n"
     ]
    },
    {
     "name": "stderr",
     "output_type": "stream",
     "text": [
      "计算适应值:   9%|▉         | 901/10000 [00:34<05:45, 26.31it/s]\n"
     ]
    },
    {
     "ename": "KeyboardInterrupt",
     "evalue": "",
     "output_type": "error",
     "traceback": [
      "\u001b[1;31m---------------------------------------------------------------------------\u001b[0m",
      "\u001b[1;31mKeyboardInterrupt\u001b[0m                         Traceback (most recent call last)",
      "Cell \u001b[1;32mIn[11], line 18\u001b[0m\n\u001b[0;32m     16\u001b[0m i_expr\u001b[38;5;241m=\u001b[39mgp\u001b[38;5;241m.\u001b[39mmapping_columns_name\u001b[38;5;241m.\u001b[39mtrans_(\u001b[38;5;28mstr\u001b[39m(i))\n\u001b[0;32m     17\u001b[0m tree\u001b[38;5;241m=\u001b[39mgp\u001b[38;5;241m.\u001b[39mformulate_coding_AST\u001b[38;5;241m.\u001b[39mExpressionTree(i_expr)\n\u001b[1;32m---> 18\u001b[0m factor_name\u001b[38;5;241m=\u001b[39m\u001b[43mgp\u001b[49m\u001b[38;5;241;43m.\u001b[39;49m\u001b[43mformulate_coding_AST\u001b[49m\u001b[38;5;241;43m.\u001b[39;49m\u001b[43mf_coding_printfree\u001b[49m\u001b[43m(\u001b[49m\u001b[43mtree\u001b[49m\u001b[38;5;241;43m.\u001b[39;49m\u001b[43mroot\u001b[49m\u001b[43m,\u001b[49m\u001b[43mdf\u001b[49m\u001b[43m,\u001b[49m\u001b[43m)\u001b[49m\n\u001b[0;32m     19\u001b[0m \u001b[38;5;28;01mif\u001b[39;00m factor_name:\n\u001b[0;32m     20\u001b[0m   _, detail\u001b[38;5;241m=\u001b[39mgp\u001b[38;5;241m.\u001b[39mfitness_evaluate\u001b[38;5;241m.\u001b[39mevaluate_factor_with_score(df, factor_col\u001b[38;5;241m=\u001b[39m factor_name, future_return_col\u001b[38;5;241m=\u001b[39m\u001b[38;5;124m'\u001b[39m\u001b[38;5;124mfuture_return\u001b[39m\u001b[38;5;124m'\u001b[39m, quantiles\u001b[38;5;241m=\u001b[39m\u001b[38;5;241m5\u001b[39m, weights\u001b[38;5;241m=\u001b[39m\u001b[38;5;28;01mNone\u001b[39;00m)\n",
      "File \u001b[1;32mc:\\Users\\QinTian\\Desktop\\F\\gp\\formulate_coding_AST.py:814\u001b[0m, in \u001b[0;36mf_coding_printfree\u001b[1;34m(input, df, drop_opt, std_opt, zero_opt, relu_opt, time_name, ticker_name, columns_list)\u001b[0m\n\u001b[0;32m    812\u001b[0m \u001b[38;5;28;01mtry\u001b[39;00m:\n\u001b[0;32m    813\u001b[0m  \u001b[38;5;28;01mfor\u001b[39;00m index,code \u001b[38;5;129;01min\u001b[39;00m \u001b[38;5;28menumerate\u001b[39m(tqdm( df_orders,leave\u001b[38;5;241m=\u001b[39m\u001b[38;5;28;01mFalse\u001b[39;00m,desc\u001b[38;5;241m=\u001b[39m\u001b[38;5;124m'\u001b[39m\u001b[38;5;124m正在计算因子值\u001b[39m\u001b[38;5;124m'\u001b[39m)):\n\u001b[1;32m--> 814\u001b[0m        exec(code)\n\u001b[0;32m    815\u001b[0m \u001b[38;5;28;01mexcept\u001b[39;00m \u001b[38;5;167;01mException\u001b[39;00m \u001b[38;5;28;01mas\u001b[39;00m e:\n\u001b[0;32m    816\u001b[0m        \u001b[38;5;28;01mreturn\u001b[39;00m \u001b[38;5;28;01mFalse\u001b[39;00m\n",
      "File \u001b[1;32m<string>:1\u001b[0m\n",
      "File \u001b[1;32mc:\\Users\\QinTian\\anaconda3\\envs\\myenv\\Lib\\site-packages\\pandas\\core\\window\\rolling.py:2049\u001b[0m, in \u001b[0;36mRolling.apply\u001b[1;34m(self, func, raw, engine, engine_kwargs, args, kwargs)\u001b[0m\n\u001b[0;32m   2016\u001b[0m \u001b[38;5;129m@doc\u001b[39m(\n\u001b[0;32m   2017\u001b[0m     template_header,\n\u001b[0;32m   2018\u001b[0m     create_section_header(\u001b[38;5;124m\"\u001b[39m\u001b[38;5;124mParameters\u001b[39m\u001b[38;5;124m\"\u001b[39m),\n\u001b[1;32m   (...)\u001b[0m\n\u001b[0;32m   2047\u001b[0m     kwargs: \u001b[38;5;28mdict\u001b[39m[\u001b[38;5;28mstr\u001b[39m, Any] \u001b[38;5;241m|\u001b[39m \u001b[38;5;28;01mNone\u001b[39;00m \u001b[38;5;241m=\u001b[39m \u001b[38;5;28;01mNone\u001b[39;00m,\n\u001b[0;32m   2048\u001b[0m ):\n\u001b[1;32m-> 2049\u001b[0m     \u001b[38;5;28;01mreturn\u001b[39;00m \u001b[38;5;28;43msuper\u001b[39;49m\u001b[43m(\u001b[49m\u001b[43m)\u001b[49m\u001b[38;5;241;43m.\u001b[39;49m\u001b[43mapply\u001b[49m\u001b[43m(\u001b[49m\n\u001b[0;32m   2050\u001b[0m \u001b[43m        \u001b[49m\u001b[43mfunc\u001b[49m\u001b[43m,\u001b[49m\n\u001b[0;32m   2051\u001b[0m \u001b[43m        \u001b[49m\u001b[43mraw\u001b[49m\u001b[38;5;241;43m=\u001b[39;49m\u001b[43mraw\u001b[49m\u001b[43m,\u001b[49m\n\u001b[0;32m   2052\u001b[0m \u001b[43m        \u001b[49m\u001b[43mengine\u001b[49m\u001b[38;5;241;43m=\u001b[39;49m\u001b[43mengine\u001b[49m\u001b[43m,\u001b[49m\n\u001b[0;32m   2053\u001b[0m \u001b[43m        \u001b[49m\u001b[43mengine_kwargs\u001b[49m\u001b[38;5;241;43m=\u001b[39;49m\u001b[43mengine_kwargs\u001b[49m\u001b[43m,\u001b[49m\n\u001b[0;32m   2054\u001b[0m \u001b[43m        \u001b[49m\u001b[43margs\u001b[49m\u001b[38;5;241;43m=\u001b[39;49m\u001b[43margs\u001b[49m\u001b[43m,\u001b[49m\n\u001b[0;32m   2055\u001b[0m \u001b[43m        \u001b[49m\u001b[43mkwargs\u001b[49m\u001b[38;5;241;43m=\u001b[39;49m\u001b[43mkwargs\u001b[49m\u001b[43m,\u001b[49m\n\u001b[0;32m   2056\u001b[0m \u001b[43m    \u001b[49m\u001b[43m)\u001b[49m\n",
      "File \u001b[1;32mc:\\Users\\QinTian\\anaconda3\\envs\\myenv\\Lib\\site-packages\\pandas\\core\\window\\rolling.py:1508\u001b[0m, in \u001b[0;36mRollingAndExpandingMixin.apply\u001b[1;34m(self, func, raw, engine, engine_kwargs, args, kwargs)\u001b[0m\n\u001b[0;32m   1505\u001b[0m \u001b[38;5;28;01melse\u001b[39;00m:\n\u001b[0;32m   1506\u001b[0m     \u001b[38;5;28;01mraise\u001b[39;00m \u001b[38;5;167;01mValueError\u001b[39;00m(\u001b[38;5;124m\"\u001b[39m\u001b[38;5;124mengine must be either \u001b[39m\u001b[38;5;124m'\u001b[39m\u001b[38;5;124mnumba\u001b[39m\u001b[38;5;124m'\u001b[39m\u001b[38;5;124m or \u001b[39m\u001b[38;5;124m'\u001b[39m\u001b[38;5;124mcython\u001b[39m\u001b[38;5;124m'\u001b[39m\u001b[38;5;124m\"\u001b[39m)\n\u001b[1;32m-> 1508\u001b[0m \u001b[38;5;28;01mreturn\u001b[39;00m \u001b[38;5;28;43mself\u001b[39;49m\u001b[38;5;241;43m.\u001b[39;49m\u001b[43m_apply\u001b[49m\u001b[43m(\u001b[49m\n\u001b[0;32m   1509\u001b[0m \u001b[43m    \u001b[49m\u001b[43mapply_func\u001b[49m\u001b[43m,\u001b[49m\n\u001b[0;32m   1510\u001b[0m \u001b[43m    \u001b[49m\u001b[43mname\u001b[49m\u001b[38;5;241;43m=\u001b[39;49m\u001b[38;5;124;43m\"\u001b[39;49m\u001b[38;5;124;43mapply\u001b[39;49m\u001b[38;5;124;43m\"\u001b[39;49m\u001b[43m,\u001b[49m\n\u001b[0;32m   1511\u001b[0m \u001b[43m    \u001b[49m\u001b[43mnumba_args\u001b[49m\u001b[38;5;241;43m=\u001b[39;49m\u001b[43mnumba_args\u001b[49m\u001b[43m,\u001b[49m\n\u001b[0;32m   1512\u001b[0m \u001b[43m\u001b[49m\u001b[43m)\u001b[49m\n",
      "File \u001b[1;32mc:\\Users\\QinTian\\anaconda3\\envs\\myenv\\Lib\\site-packages\\pandas\\core\\window\\rolling.py:619\u001b[0m, in \u001b[0;36mBaseWindow._apply\u001b[1;34m(self, func, name, numeric_only, numba_args, **kwargs)\u001b[0m\n\u001b[0;32m    616\u001b[0m     \u001b[38;5;28;01mreturn\u001b[39;00m result\n\u001b[0;32m    618\u001b[0m \u001b[38;5;28;01mif\u001b[39;00m \u001b[38;5;28mself\u001b[39m\u001b[38;5;241m.\u001b[39mmethod \u001b[38;5;241m==\u001b[39m \u001b[38;5;124m\"\u001b[39m\u001b[38;5;124msingle\u001b[39m\u001b[38;5;124m\"\u001b[39m:\n\u001b[1;32m--> 619\u001b[0m     \u001b[38;5;28;01mreturn\u001b[39;00m \u001b[38;5;28;43mself\u001b[39;49m\u001b[38;5;241;43m.\u001b[39;49m\u001b[43m_apply_columnwise\u001b[49m\u001b[43m(\u001b[49m\u001b[43mhomogeneous_func\u001b[49m\u001b[43m,\u001b[49m\u001b[43m \u001b[49m\u001b[43mname\u001b[49m\u001b[43m,\u001b[49m\u001b[43m \u001b[49m\u001b[43mnumeric_only\u001b[49m\u001b[43m)\u001b[49m\n\u001b[0;32m    620\u001b[0m \u001b[38;5;28;01melse\u001b[39;00m:\n\u001b[0;32m    621\u001b[0m     \u001b[38;5;28;01mreturn\u001b[39;00m \u001b[38;5;28mself\u001b[39m\u001b[38;5;241m.\u001b[39m_apply_tablewise(homogeneous_func, name, numeric_only)\n",
      "File \u001b[1;32mc:\\Users\\QinTian\\anaconda3\\envs\\myenv\\Lib\\site-packages\\pandas\\core\\window\\rolling.py:472\u001b[0m, in \u001b[0;36mBaseWindow._apply_columnwise\u001b[1;34m(self, homogeneous_func, name, numeric_only)\u001b[0m\n\u001b[0;32m    470\u001b[0m \u001b[38;5;28mself\u001b[39m\u001b[38;5;241m.\u001b[39m_validate_numeric_only(name, numeric_only)\n\u001b[0;32m    471\u001b[0m \u001b[38;5;28;01mif\u001b[39;00m \u001b[38;5;28mself\u001b[39m\u001b[38;5;241m.\u001b[39m_selected_obj\u001b[38;5;241m.\u001b[39mndim \u001b[38;5;241m==\u001b[39m \u001b[38;5;241m1\u001b[39m:\n\u001b[1;32m--> 472\u001b[0m     \u001b[38;5;28;01mreturn\u001b[39;00m \u001b[38;5;28;43mself\u001b[39;49m\u001b[38;5;241;43m.\u001b[39;49m\u001b[43m_apply_series\u001b[49m\u001b[43m(\u001b[49m\u001b[43mhomogeneous_func\u001b[49m\u001b[43m,\u001b[49m\u001b[43m \u001b[49m\u001b[43mname\u001b[49m\u001b[43m)\u001b[49m\n\u001b[0;32m    474\u001b[0m obj \u001b[38;5;241m=\u001b[39m \u001b[38;5;28mself\u001b[39m\u001b[38;5;241m.\u001b[39m_create_data(\u001b[38;5;28mself\u001b[39m\u001b[38;5;241m.\u001b[39m_selected_obj, numeric_only)\n\u001b[0;32m    475\u001b[0m \u001b[38;5;28;01mif\u001b[39;00m name \u001b[38;5;241m==\u001b[39m \u001b[38;5;124m\"\u001b[39m\u001b[38;5;124mcount\u001b[39m\u001b[38;5;124m\"\u001b[39m:\n\u001b[0;32m    476\u001b[0m     \u001b[38;5;66;03m# GH 12541: Special case for count where we support date-like types\u001b[39;00m\n",
      "File \u001b[1;32mc:\\Users\\QinTian\\anaconda3\\envs\\myenv\\Lib\\site-packages\\pandas\\core\\window\\rolling.py:456\u001b[0m, in \u001b[0;36mBaseWindow._apply_series\u001b[1;34m(self, homogeneous_func, name)\u001b[0m\n\u001b[0;32m    453\u001b[0m \u001b[38;5;28;01mexcept\u001b[39;00m (\u001b[38;5;167;01mTypeError\u001b[39;00m, \u001b[38;5;167;01mNotImplementedError\u001b[39;00m) \u001b[38;5;28;01mas\u001b[39;00m err:\n\u001b[0;32m    454\u001b[0m     \u001b[38;5;28;01mraise\u001b[39;00m DataError(\u001b[38;5;124m\"\u001b[39m\u001b[38;5;124mNo numeric types to aggregate\u001b[39m\u001b[38;5;124m\"\u001b[39m) \u001b[38;5;28;01mfrom\u001b[39;00m \u001b[38;5;21;01merr\u001b[39;00m\n\u001b[1;32m--> 456\u001b[0m result \u001b[38;5;241m=\u001b[39m \u001b[43mhomogeneous_func\u001b[49m\u001b[43m(\u001b[49m\u001b[43mvalues\u001b[49m\u001b[43m)\u001b[49m\n\u001b[0;32m    457\u001b[0m index \u001b[38;5;241m=\u001b[39m \u001b[38;5;28mself\u001b[39m\u001b[38;5;241m.\u001b[39m_slice_axis_for_step(obj\u001b[38;5;241m.\u001b[39mindex, result)\n\u001b[0;32m    458\u001b[0m \u001b[38;5;28;01mreturn\u001b[39;00m obj\u001b[38;5;241m.\u001b[39m_constructor(result, index\u001b[38;5;241m=\u001b[39mindex, name\u001b[38;5;241m=\u001b[39mobj\u001b[38;5;241m.\u001b[39mname)\n",
      "File \u001b[1;32mc:\\Users\\QinTian\\anaconda3\\envs\\myenv\\Lib\\site-packages\\pandas\\core\\window\\rolling.py:614\u001b[0m, in \u001b[0;36mBaseWindow._apply.<locals>.homogeneous_func\u001b[1;34m(values)\u001b[0m\n\u001b[0;32m    611\u001b[0m     \u001b[38;5;28;01mreturn\u001b[39;00m func(x, start, end, min_periods, \u001b[38;5;241m*\u001b[39mnumba_args)\n\u001b[0;32m    613\u001b[0m \u001b[38;5;28;01mwith\u001b[39;00m np\u001b[38;5;241m.\u001b[39merrstate(\u001b[38;5;28mall\u001b[39m\u001b[38;5;241m=\u001b[39m\u001b[38;5;124m\"\u001b[39m\u001b[38;5;124mignore\u001b[39m\u001b[38;5;124m\"\u001b[39m):\n\u001b[1;32m--> 614\u001b[0m     result \u001b[38;5;241m=\u001b[39m \u001b[43mcalc\u001b[49m\u001b[43m(\u001b[49m\u001b[43mvalues\u001b[49m\u001b[43m)\u001b[49m\n\u001b[0;32m    616\u001b[0m \u001b[38;5;28;01mreturn\u001b[39;00m result\n",
      "File \u001b[1;32mc:\\Users\\QinTian\\anaconda3\\envs\\myenv\\Lib\\site-packages\\pandas\\core\\window\\rolling.py:611\u001b[0m, in \u001b[0;36mBaseWindow._apply.<locals>.homogeneous_func.<locals>.calc\u001b[1;34m(x)\u001b[0m\n\u001b[0;32m    602\u001b[0m start, end \u001b[38;5;241m=\u001b[39m window_indexer\u001b[38;5;241m.\u001b[39mget_window_bounds(\n\u001b[0;32m    603\u001b[0m     num_values\u001b[38;5;241m=\u001b[39m\u001b[38;5;28mlen\u001b[39m(x),\n\u001b[0;32m    604\u001b[0m     min_periods\u001b[38;5;241m=\u001b[39mmin_periods,\n\u001b[1;32m   (...)\u001b[0m\n\u001b[0;32m    607\u001b[0m     step\u001b[38;5;241m=\u001b[39m\u001b[38;5;28mself\u001b[39m\u001b[38;5;241m.\u001b[39mstep,\n\u001b[0;32m    608\u001b[0m )\n\u001b[0;32m    609\u001b[0m \u001b[38;5;28mself\u001b[39m\u001b[38;5;241m.\u001b[39m_check_window_bounds(start, end, \u001b[38;5;28mlen\u001b[39m(x))\n\u001b[1;32m--> 611\u001b[0m \u001b[38;5;28;01mreturn\u001b[39;00m \u001b[43mfunc\u001b[49m\u001b[43m(\u001b[49m\u001b[43mx\u001b[49m\u001b[43m,\u001b[49m\u001b[43m \u001b[49m\u001b[43mstart\u001b[49m\u001b[43m,\u001b[49m\u001b[43m \u001b[49m\u001b[43mend\u001b[49m\u001b[43m,\u001b[49m\u001b[43m \u001b[49m\u001b[43mmin_periods\u001b[49m\u001b[43m,\u001b[49m\u001b[43m \u001b[49m\u001b[38;5;241;43m*\u001b[39;49m\u001b[43mnumba_args\u001b[49m\u001b[43m)\u001b[49m\n",
      "File \u001b[1;32mc:\\Users\\QinTian\\anaconda3\\envs\\myenv\\Lib\\site-packages\\pandas\\core\\window\\rolling.py:1535\u001b[0m, in \u001b[0;36mRollingAndExpandingMixin._generate_cython_apply_func.<locals>.apply_func\u001b[1;34m(values, begin, end, min_periods, raw)\u001b[0m\n\u001b[0;32m   1532\u001b[0m \u001b[38;5;28;01mif\u001b[39;00m \u001b[38;5;129;01mnot\u001b[39;00m raw:\n\u001b[0;32m   1533\u001b[0m     \u001b[38;5;66;03m# GH 45912\u001b[39;00m\n\u001b[0;32m   1534\u001b[0m     values \u001b[38;5;241m=\u001b[39m Series(values, index\u001b[38;5;241m=\u001b[39m\u001b[38;5;28mself\u001b[39m\u001b[38;5;241m.\u001b[39m_on, copy\u001b[38;5;241m=\u001b[39m\u001b[38;5;28;01mFalse\u001b[39;00m)\n\u001b[1;32m-> 1535\u001b[0m \u001b[38;5;28;01mreturn\u001b[39;00m \u001b[43mwindow_func\u001b[49m\u001b[43m(\u001b[49m\u001b[43mvalues\u001b[49m\u001b[43m,\u001b[49m\u001b[43m \u001b[49m\u001b[43mbegin\u001b[49m\u001b[43m,\u001b[49m\u001b[43m \u001b[49m\u001b[43mend\u001b[49m\u001b[43m,\u001b[49m\u001b[43m \u001b[49m\u001b[43mmin_periods\u001b[49m\u001b[43m)\u001b[49m\n",
      "File \u001b[1;32maggregations.pyx:1420\u001b[0m, in \u001b[0;36mpandas._libs.window.aggregations.roll_apply\u001b[1;34m()\u001b[0m\n",
      "File \u001b[1;32m<string>:1\u001b[0m, in \u001b[0;36m<lambda>\u001b[1;34m(x)\u001b[0m\n",
      "File \u001b[1;32mc:\\Users\\QinTian\\anaconda3\\envs\\myenv\\Lib\\site-packages\\numpy\\core\\fromnumeric.py:1133\u001b[0m, in \u001b[0;36margsort\u001b[1;34m(a, axis, kind, order)\u001b[0m\n\u001b[0;32m   1025\u001b[0m \u001b[38;5;129m@array_function_dispatch\u001b[39m(_argsort_dispatcher)\n\u001b[0;32m   1026\u001b[0m \u001b[38;5;28;01mdef\u001b[39;00m \u001b[38;5;21margsort\u001b[39m(a, axis\u001b[38;5;241m=\u001b[39m\u001b[38;5;241m-\u001b[39m\u001b[38;5;241m1\u001b[39m, kind\u001b[38;5;241m=\u001b[39m\u001b[38;5;28;01mNone\u001b[39;00m, order\u001b[38;5;241m=\u001b[39m\u001b[38;5;28;01mNone\u001b[39;00m):\n\u001b[0;32m   1027\u001b[0m \u001b[38;5;250m    \u001b[39m\u001b[38;5;124;03m\"\"\"\u001b[39;00m\n\u001b[0;32m   1028\u001b[0m \u001b[38;5;124;03m    Returns the indices that would sort an array.\u001b[39;00m\n\u001b[0;32m   1029\u001b[0m \n\u001b[1;32m   (...)\u001b[0m\n\u001b[0;32m   1131\u001b[0m \n\u001b[0;32m   1132\u001b[0m \u001b[38;5;124;03m    \"\"\"\u001b[39;00m\n\u001b[1;32m-> 1133\u001b[0m     \u001b[38;5;28;01mreturn\u001b[39;00m \u001b[43m_wrapfunc\u001b[49m\u001b[43m(\u001b[49m\u001b[43ma\u001b[49m\u001b[43m,\u001b[49m\u001b[43m \u001b[49m\u001b[38;5;124;43m'\u001b[39;49m\u001b[38;5;124;43margsort\u001b[39;49m\u001b[38;5;124;43m'\u001b[39;49m\u001b[43m,\u001b[49m\u001b[43m \u001b[49m\u001b[43maxis\u001b[49m\u001b[38;5;241;43m=\u001b[39;49m\u001b[43maxis\u001b[49m\u001b[43m,\u001b[49m\u001b[43m \u001b[49m\u001b[43mkind\u001b[49m\u001b[38;5;241;43m=\u001b[39;49m\u001b[43mkind\u001b[49m\u001b[43m,\u001b[49m\u001b[43m \u001b[49m\u001b[43morder\u001b[49m\u001b[38;5;241;43m=\u001b[39;49m\u001b[43morder\u001b[49m\u001b[43m)\u001b[49m\n",
      "File \u001b[1;32mc:\\Users\\QinTian\\anaconda3\\envs\\myenv\\Lib\\site-packages\\numpy\\core\\fromnumeric.py:56\u001b[0m, in \u001b[0;36m_wrapfunc\u001b[1;34m(obj, method, *args, **kwds)\u001b[0m\n\u001b[0;32m     54\u001b[0m bound \u001b[38;5;241m=\u001b[39m \u001b[38;5;28mgetattr\u001b[39m(obj, method, \u001b[38;5;28;01mNone\u001b[39;00m)\n\u001b[0;32m     55\u001b[0m \u001b[38;5;28;01mif\u001b[39;00m bound \u001b[38;5;129;01mis\u001b[39;00m \u001b[38;5;28;01mNone\u001b[39;00m:\n\u001b[1;32m---> 56\u001b[0m     \u001b[38;5;28;01mreturn\u001b[39;00m \u001b[43m_wrapit\u001b[49m\u001b[43m(\u001b[49m\u001b[43mobj\u001b[49m\u001b[43m,\u001b[49m\u001b[43m \u001b[49m\u001b[43mmethod\u001b[49m\u001b[43m,\u001b[49m\u001b[43m \u001b[49m\u001b[38;5;241;43m*\u001b[39;49m\u001b[43margs\u001b[49m\u001b[43m,\u001b[49m\u001b[43m \u001b[49m\u001b[38;5;241;43m*\u001b[39;49m\u001b[38;5;241;43m*\u001b[39;49m\u001b[43mkwds\u001b[49m\u001b[43m)\u001b[49m\n\u001b[0;32m     58\u001b[0m \u001b[38;5;28;01mtry\u001b[39;00m:\n\u001b[0;32m     59\u001b[0m     \u001b[38;5;28;01mreturn\u001b[39;00m bound(\u001b[38;5;241m*\u001b[39margs, \u001b[38;5;241m*\u001b[39m\u001b[38;5;241m*\u001b[39mkwds)\n",
      "File \u001b[1;32mc:\\Users\\QinTian\\anaconda3\\envs\\myenv\\Lib\\site-packages\\numpy\\core\\fromnumeric.py:45\u001b[0m, in \u001b[0;36m_wrapit\u001b[1;34m(obj, method, *args, **kwds)\u001b[0m\n\u001b[0;32m     43\u001b[0m \u001b[38;5;28;01mexcept\u001b[39;00m \u001b[38;5;167;01mAttributeError\u001b[39;00m:\n\u001b[0;32m     44\u001b[0m     wrap \u001b[38;5;241m=\u001b[39m \u001b[38;5;28;01mNone\u001b[39;00m\n\u001b[1;32m---> 45\u001b[0m result \u001b[38;5;241m=\u001b[39m \u001b[38;5;28;43mgetattr\u001b[39;49m\u001b[43m(\u001b[49m\u001b[43masarray\u001b[49m\u001b[43m(\u001b[49m\u001b[43mobj\u001b[49m\u001b[43m)\u001b[49m\u001b[43m,\u001b[49m\u001b[43m \u001b[49m\u001b[43mmethod\u001b[49m\u001b[43m)\u001b[49m\u001b[43m(\u001b[49m\u001b[38;5;241;43m*\u001b[39;49m\u001b[43margs\u001b[49m\u001b[43m,\u001b[49m\u001b[43m \u001b[49m\u001b[38;5;241;43m*\u001b[39;49m\u001b[38;5;241;43m*\u001b[39;49m\u001b[43mkwds\u001b[49m\u001b[43m)\u001b[49m\n\u001b[0;32m     46\u001b[0m \u001b[38;5;28;01mif\u001b[39;00m wrap:\n\u001b[0;32m     47\u001b[0m     \u001b[38;5;28;01mif\u001b[39;00m \u001b[38;5;129;01mnot\u001b[39;00m \u001b[38;5;28misinstance\u001b[39m(result, mu\u001b[38;5;241m.\u001b[39mndarray):\n",
      "\u001b[1;31mKeyboardInterrupt\u001b[0m: "
     ]
    }
   ],
   "source": [
    "fitness_score=[]\n",
    "count=0\n",
    "from IPython.display import clear_output\n",
    "from tqdm import tqdm\n",
    "import time\n",
    "import warnings\n",
    "\n",
    "# 忽略所有警告\n",
    "warnings.filterwarnings(\"ignore\")\n",
    "for count in range(echo):\n",
    "    print(f'第{count+1}次演化')\n",
    "    #计算适应值\n",
    "    for i in tqdm(population,desc='计算适应值'):\n",
    "              \n",
    "            #   factor_name=gp.formulate_coding_AST.f_coding(i.root,df,)\n",
    "              i_expr=gp.mapping_columns_name.trans_(str(i))\n",
    "              tree=gp.formulate_coding_AST.ExpressionTree(i_expr)\n",
    "              factor_name=gp.formulate_coding_AST.f_coding_printfree(tree.root,df,)\n",
    "              if factor_name:\n",
    "                _, detail=gp.fitness_evaluate.evaluate_factor_with_score(df, factor_col= factor_name, future_return_col='future_return', quantiles=5, weights=None)\n",
    "                df.drop(factor_name, axis=1, inplace=True)#防止df过大溢出\n",
    "                fitness_score.append(detail['max_min_group_return_diff'])\n",
    "              else:\n",
    "                #print(i)\n",
    "                fitness_score.append(0)\n",
    "            #   clear_output(wait=True)\n",
    "    #自然选择环节\n",
    "    reserve_group=gp.selection.reserve_top_n_individuals(population,fitness_score,int(polulation_num*0.2))\n",
    "    slection_group=gp.selection.tournament_selection(population, fitness_score, num_to_select=int(polulation_num*0.8), tournament_size=3)\n",
    "    average = sum(fitness_score) /len(fitness_score)\n",
    "    maximu=max(fitness_score)\n",
    "    print(f\"最大适应度是: {maximu}\")\n",
    "    print(f\"平均适应度是: {average}\")\n",
    "    fitness_score=[] #fitness_score重置为空\n",
    "    #交叉环节\n",
    "    random.shuffle(population)#打乱种群\n",
    "    crossover_group=gp.crossover.population_crossover(slection_group[:int(polulation_num*0.4)])\n",
    "    slection_group=crossover_group+slection_group[int(polulation_num*0.4):]\n",
    "    #变异环节\n",
    "    slection_group=gp.mutation.population_mutation(slection_group, mutation_rate=0.1,low=1,high=2)\n",
    "    population=slection_group+reserve_group\n",
    "    s=0\n",
    "    for i in population:\n",
    "         s+=i.get_depth()\n",
    "    print(f\"种群平均深度是: {s/polulation_num}\")\n",
    "    \n",
    "   \n",
    "   \n",
    "    \n",
    "\n",
    "    \n",
    "\n",
    "\n"
   ]
  },
  {
   "cell_type": "code",
   "execution_count": 9,
   "metadata": {},
   "outputs": [
    {
     "name": "stdout",
     "output_type": "stream",
     "text": [
      "mul(div(div(ts_pct_change(open, 1), ts_pct_change(taker_buy_quote_asset_volume, 100)), add(open, ts_pct_change(taker_buy_quote_asset_volume, 100))), volume)\n"
     ]
    }
   ],
   "source": [
    "print(population[10])"
   ]
  },
  {
   "cell_type": "code",
   "execution_count": null,
   "metadata": {},
   "outputs": [],
   "source": []
  },
  {
   "cell_type": "code",
   "execution_count": null,
   "metadata": {},
   "outputs": [],
   "source": [
    "gp.formulate_coding_AST.f_coding('sub(div(volume, ts_pct_change(close,1)), mul(volume, ts_pct_change(volume,1)))',df,)"
   ]
  },
  {
   "cell_type": "code",
   "execution_count": null,
   "metadata": {},
   "outputs": [],
   "source": [
    "df"
   ]
  },
  {
   "cell_type": "code",
   "execution_count": null,
   "metadata": {},
   "outputs": [],
   "source": [
    "b=[random.random() for i in range(100)]"
   ]
  },
  {
   "cell_type": "code",
   "execution_count": null,
   "metadata": {},
   "outputs": [],
   "source": []
  },
  {
   "cell_type": "code",
   "execution_count": null,
   "metadata": {},
   "outputs": [],
   "source": []
  },
  {
   "cell_type": "code",
   "execution_count": null,
   "metadata": {},
   "outputs": [],
   "source": [
    "m,n=gp.crossover.crossover(a[0],a[1])\n",
    "print(m,n)"
   ]
  },
  {
   "cell_type": "code",
   "execution_count": null,
   "metadata": {},
   "outputs": [],
   "source": [
    "print(gp.formulate_coding_AST.ExpressionTree(m))"
   ]
  },
  {
   "cell_type": "code",
   "execution_count": null,
   "metadata": {},
   "outputs": [],
   "source": [
    "print(gp.formulate_coding_AST.ExpressionTree(n))"
   ]
  },
  {
   "cell_type": "code",
   "execution_count": null,
   "metadata": {},
   "outputs": [],
   "source": []
  },
  {
   "cell_type": "code",
   "execution_count": null,
   "metadata": {},
   "outputs": [],
   "source": [
    "selected_individuals=gp.selection.tournament_selection(formula, random_list, num_to_select=100, tournament_size=3)\n",
    "selected_individuals"
   ]
  }
 ],
 "metadata": {
  "kernelspec": {
   "display_name": "myenv",
   "language": "python",
   "name": "python3"
  },
  "language_info": {
   "codemirror_mode": {
    "name": "ipython",
    "version": 3
   },
   "file_extension": ".py",
   "mimetype": "text/x-python",
   "name": "python",
   "nbconvert_exporter": "python",
   "pygments_lexer": "ipython3",
   "version": "3.11.9"
  }
 },
 "nbformat": 4,
 "nbformat_minor": 2
}
